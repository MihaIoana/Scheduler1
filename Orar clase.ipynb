{
 "cells": [
  {
   "cell_type": "code",
   "execution_count": 11,
   "metadata": {},
   "outputs": [],
   "source": [
    "#Clasa contactilor\n",
    "class Contact:\n",
    "    met = [\"email\", \"fax\", \"hl7\"]\n",
    "    sch = [\"as soon as available\", \"after 6 pm\", \"between 8 am and 10 pm\"]\n",
    "    \n",
    "    def __init__(self, name, method, schedule):\n",
    "        self.name=name\n",
    "        self.method=self.met[method-1]\n",
    "        self.schedule=self.sch[schedule-1]        "
   ]
  },
  {
   "cell_type": "code",
   "execution_count": 12,
   "metadata": {},
   "outputs": [],
   "source": [
    "#Clasa clientilor\n",
    "class Client:\n",
    "    contacts=[]\n",
    "    \n",
    "    def __init__(self, name, contacts):\n",
    "        self.name=name\n",
    "        self.contacts=contacts\n",
    "        \n",
    "    def show_contacts(self):\n",
    "        print(self.contacts)\n",
    "        \n",
    "    def send_report(self, method, contact_index):\n",
    "        if (method ==1):\n",
    "             print(\"Email sent to contact\", self.contacts[contact_index].name)\n",
    "        if (method ==2):\n",
    "             print(\"Fax sent to contact\", self.contacts[contact_index].name)\n",
    "        if (method ==1):\n",
    "             print(\"Hl7 sent to contact\", self.contacts[contact_index].name)"
   ]
  },
  {
   "cell_type": "code",
   "execution_count": 13,
   "metadata": {},
   "outputs": [],
   "source": [
    "class Main:\n",
    "    def create_client_list(self):\n",
    "        self.client_list=[]\n",
    "        self.nr_clients=int(input(\"Number of clients: \"))\n",
    "       # print(self.nr_clients)\n",
    "        "
   ]
  },
  {
   "cell_type": "code",
   "execution_count": 10,
   "metadata": {},
   "outputs": [
    {
     "name": "stdout",
     "output_type": "stream",
     "text": [
      "Number of clients: 7\n"
     ]
    }
   ],
   "source": [
    "m1 = Main()\n",
    "m1.create_client_list()"
   ]
  },
  {
   "cell_type": "code",
   "execution_count": null,
   "metadata": {},
   "outputs": [],
   "source": []
  }
 ],
 "metadata": {
  "kernelspec": {
   "display_name": "Python 3",
   "language": "python",
   "name": "python3"
  },
  "language_info": {
   "codemirror_mode": {
    "name": "ipython",
    "version": 3
   },
   "file_extension": ".py",
   "mimetype": "text/x-python",
   "name": "python",
   "nbconvert_exporter": "python",
   "pygments_lexer": "ipython3",
   "version": "3.7.1"
  }
 },
 "nbformat": 4,
 "nbformat_minor": 2
}
