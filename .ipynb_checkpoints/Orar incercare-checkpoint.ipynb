{
 "cells": [
  {
   "cell_type": "code",
   "execution_count": 1,
   "metadata": {},
   "outputs": [],
   "source": [
    "#client: lista de contacti\n",
    "#fiecare contact are o metoda de livrare asociata\n",
    "# metodele pot fi: email, fax, hl7.\n",
    "#fiecare contact are si un program de livrare asociat\n",
    "#Valori program livrare:\n",
    "#   as soon as available, after 6 pm și between 8am and 10 pm\n",
    "\n",
    "# structura de date si metode pt a trimite \"rapoartele\"\n",
    "#      conform setarilor contactilor, \n",
    "# print: \"Email sent to contact <xxx>\" sau \"Fax sent to contact <xxx>\"\n",
    "\n",
    "#Exemplu:\n",
    "#Client: John Doe Medical Office\n",
    "#Contacti: \n",
    " #- John Doe - email - as soon as available\n",
    " #- Jane Doe - fax - after 8 am\n",
    " #- Collect - email - between 8 and 8:30 am"
   ]
  },
  {
   "cell_type": "code",
   "execution_count": 2,
   "metadata": {},
   "outputs": [
    {
     "name": "stdout",
     "output_type": "stream",
     "text": [
      "09:31:00\n"
     ]
    }
   ],
   "source": [
    "import datetime\n",
    "import random\n",
    "h=random.randint(0,24)\n",
    "m=random.randint(0,60)\n",
    "s=random.randint(0,60)\n",
    "#timeT=datetime.time(h,m,s)\n",
    "timeT=datetime.time(9,31,0)\n",
    "print(timeT)\n",
    "\n",
    "#print(timeT.hour)"
   ]
  },
  {
   "cell_type": "code",
   "execution_count": null,
   "metadata": {},
   "outputs": [],
   "source": [
    "\n",
    "    \n"
   ]
  },
  {
   "cell_type": "code",
   "execution_count": null,
   "metadata": {},
   "outputs": [],
   "source": [
    "import datetime\n",
    "client=\"John Doe Medical Office\"\n",
    "\n",
    "contact1={\n",
    "    \"name\":\"John Doe\",\n",
    "    \"delivery\":\"Email\",\n",
    "    \"schedule\":\"as soon as avaible\",\n",
    "    \"start_schedule\":  datetime.datetime.now().time(),\n",
    "    \"stop_schedule\":  datetime.datetime.now().time(),\n",
    "    \"sent\": 0\n",
    "}\n",
    "contact2={\n",
    "    \"name\":\"Jane Doe\",\n",
    "    \"delivery\":\"Fax\",\n",
    "    \"schedule\": \"after 8am\",\n",
    "    \"start_schedule\": datetime.time(8,0,0),\n",
    "    \"stop_schedule\": datetime.time(22,0,0),\n",
    "     \"sent\": 0\n",
    "}\n",
    "contact3={\n",
    "    \"name\":\"Collect\",\n",
    "    \"delivery\":\"Hl7\",\n",
    "    \"schedule\":\"between 8am and 8:30am\",\n",
    "    \"start_schedule\":datetime.time(8,0,0),\n",
    "    \"stop_schedule\":datetime.time(8,30,0),\n",
    "     \"sent\": 0\n",
    "}\n",
    "\n",
    "client1=[contact1,contact2,contact3]\n",
    "\n",
    "\n",
    "#clock\n",
    "\n",
    "import time\n",
    "ss=datetime.datetime.now().second\n",
    "mm=datetime.datetime.now().minute\n",
    "hh=datetime.datetime.now().hour\n",
    "\n",
    "while True:\n",
    "   # print(str(hh).zfill(2)+\":\"+str(mm).zfill(2)+\":\"+str(ss).zfill(2))\n",
    "    ss=ss+1\n",
    "    time.sleep(60)\n",
    "    if ss==60:\n",
    "        ss=0\n",
    "        mm += 1\n",
    "    if mm==60:\n",
    "        mm=0\n",
    "        hh=hh+1\n",
    "    if hh==24: #ss=0 #mm=0\n",
    "        hh=0\n",
    "    timeT=datetime.time(hh,mm,ss)\n",
    "\n",
    "    print(\"It's \",timeT)\n",
    "    ok=1\n",
    "    if 8<=timeT.hour and timeT.hour<=21 and ok==1: \n",
    "    # print(\"It's time to work!\")   \n",
    "     for i in client1:\n",
    "        if i[\"schedule\"]==\"as soon as avaible\" and i[\"sent\"]==0: \n",
    "            print(i[\"delivery\"],\"sent to contact\",i[\"name\"],\".\")\n",
    "            i[\"sent\"]=1 \n",
    "        if  i[\"start_schedule\"] <= timeT and i[\"stop_schedule\"] >= timeT and i[\"sent\"]==0:\n",
    "            print(i[\"delivery\"],\"sent to contact\",i[\"name\"],\".\")\n",
    "            i[\"sent\"]=1 \n",
    "            print(i[\"name\"], i[\"sent\"])\n",
    "    ok=0\n",
    "    for i in client1:\n",
    "        if  i[\"sent\"]==0:\n",
    "            ok=1\n",
    "          \n",
    "    \n",
    "  # else: print(\"Tomorrow\")"
   ]
  },
  {
   "cell_type": "code",
   "execution_count": null,
   "metadata": {},
   "outputs": [],
   "source": [
    "print(contact1[\"start_schedule\"])\n",
    "\n"
   ]
  },
  {
   "cell_type": "code",
   "execution_count": null,
   "metadata": {},
   "outputs": [],
   "source": []
  },
  {
   "cell_type": "code",
   "execution_count": null,
   "metadata": {},
   "outputs": [],
   "source": []
  },
  {
   "cell_type": "code",
   "execution_count": null,
   "metadata": {},
   "outputs": [],
   "source": []
  },
  {
   "cell_type": "code",
   "execution_count": null,
   "metadata": {},
   "outputs": [],
   "source": []
  },
  {
   "cell_type": "code",
   "execution_count": null,
   "metadata": {},
   "outputs": [],
   "source": []
  },
  {
   "cell_type": "code",
   "execution_count": null,
   "metadata": {},
   "outputs": [],
   "source": []
  },
  {
   "cell_type": "code",
   "execution_count": null,
   "metadata": {},
   "outputs": [],
   "source": []
  },
  {
   "cell_type": "code",
   "execution_count": null,
   "metadata": {},
   "outputs": [],
   "source": []
  }
 ],
 "metadata": {
  "kernelspec": {
   "display_name": "Python 3",
   "language": "python",
   "name": "python3"
  },
  "language_info": {
   "codemirror_mode": {
    "name": "ipython",
    "version": 3
   },
   "file_extension": ".py",
   "mimetype": "text/x-python",
   "name": "python",
   "nbconvert_exporter": "python",
   "pygments_lexer": "ipython3",
   "version": "3.7.1"
  }
 },
 "nbformat": 4,
 "nbformat_minor": 2
}
